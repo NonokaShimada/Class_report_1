{
  "nbformat": 4,
  "nbformat_minor": 0,
  "metadata": {
    "colab": {
      "provenance": [],
      "include_colab_link": true
    },
    "kernelspec": {
      "name": "python3",
      "display_name": "Python 3"
    },
    "language_info": {
      "name": "python"
    }
  },
  "cells": [
    {
      "cell_type": "markdown",
      "metadata": {
        "id": "view-in-github",
        "colab_type": "text"
      },
      "source": [
        "<a href=\"https://colab.research.google.com/github/NonokaShimada/Class_report_1/blob/main/Class_report_1.ipynb\" target=\"_parent\"><img src=\"https://colab.research.google.com/assets/colab-badge.svg\" alt=\"Open In Colab\"/></a>"
      ]
    },
    {
      "cell_type": "code",
      "source": [
        "print('Team member: Moe Umezaki, Nonoka Shimada, Millymarion Tani')"
      ],
      "metadata": {
        "colab": {
          "base_uri": "https://localhost:8080/"
        },
        "id": "WEEgS1bqUgGw",
        "outputId": "216cb3b1-1c40-4a36-b67e-77383511211e"
      },
      "execution_count": 4,
      "outputs": [
        {
          "output_type": "stream",
          "name": "stdout",
          "text": [
            "Team member: Moe Umezaki, Nonoka Shimada, Millymarion Tani\n"
          ]
        }
      ]
    },
    {
      "cell_type": "code",
      "execution_count": null,
      "metadata": {
        "id": "Sl79L08rh0Fl"
      },
      "outputs": [],
      "source": [
        "list = (1,2,-3,18,-23,2,-8)\n",
        "list_sum = sum(list)\n",
        "print(list_sum)\n",
        "\n",
        "list_abs = [abs(number) for number in list] \n",
        "list_abs_sum = sum(list_abs)\n",
        "print(list_abs_sum)\n",
        "\n",
        "list_abs_c = (filter(None,list))\n",
        "list_abs_sum_c = sum(list_abs_c)\n",
        "print(list_abs_sum_c)\n",
        "print('execise 1.2')"
      ]
    },
    {
      "cell_type": "code",
      "source": [
        "list = ['None', 'A', 'B']\n",
        "if 'None' in list:\n",
        "  print(True)\n",
        "else:\n",
        "    print(False)\n",
        "print('execise 1.3')"
      ],
      "metadata": {
        "id": "mgKAkgkL90aD"
      },
      "execution_count": null,
      "outputs": []
    },
    {
      "cell_type": "code",
      "source": [
        "import math as M \n",
        "float_r = float(input(\"enter r:  \"))\n",
        "area = M.pi* float_r * float_r\n",
        "print(area)\n",
        "print('references: https://www.javatpoint.com/how-to-calculate-area-of-circle-using-python')\n",
        "print('execise 1.4')"
      ],
      "metadata": {
        "colab": {
          "base_uri": "https://localhost:8080/"
        },
        "id": "PzTchOiwKhTT",
        "outputId": "d3938f32-6ab5-424a-cd1f-941fe692473c"
      },
      "execution_count": null,
      "outputs": [
        {
          "output_type": "stream",
          "name": "stdout",
          "text": [
            "enter r:  3\n",
            "28.274333882308138\n",
            "references: https://www.javatpoint.com/how-to-calculate-area-of-circle-using-python\n"
          ]
        }
      ]
    },
    {
      "cell_type": "code",
      "source": [
        "from operator import index\n",
        "import statistics\n",
        "import math\n",
        "list = [41,14,38,4,10,20,31]\n",
        "list.sort()\n",
        "second_max = set(list)\n",
        "second_max.remove(max(second_max))\n",
        "print(max(second_max))\n",
        "print(statistics.median(list))\n",
        "if len(list)%2==0:\n",
        "  print(list[index(math.floor(len(list)/2))])\n",
        "else:\n",
        "  print(list[index(math.floor(len(list)/2))+1])\n",
        "\n",
        "print('exercise: 1.5')"
      ],
      "metadata": {
        "id": "jVRN3MSHMsoG",
        "colab": {
          "base_uri": "https://localhost:8080/"
        },
        "outputId": "df139d5c-a09f-4609-f2fa-7b21f5817230"
      },
      "execution_count": null,
      "outputs": [
        {
          "output_type": "stream",
          "name": "stdout",
          "text": [
            "38\n",
            "20\n",
            "31\n",
            "exercise: 1.5\n"
          ]
        }
      ]
    },
    {
      "cell_type": "code",
      "source": [
        "import pathlib\n",
        "file=pathlib.Path(\"C:/temp/Test_Folder/test.txt\")\n",
        "if file.exists():\n",
        "  print(\"True\")\n",
        "else:\n",
        "  print(\"False\")\n",
        "\n",
        "import os\n",
        "fpath=\"D:/workspace/python/\"\n",
        "isFile=os.path.isfile(fpath)\n",
        "print(\"The S present at the path is a regular \")\n",
        "fpath=\"D:/workspace/python/\"\n",
        "isDirectory=os.path.isdir(fpath)\n",
        "print(\"The S present to a Directory:\",isDirectory)\n",
        "\n",
        "print(\"exercise1.6\")"
      ],
      "metadata": {
        "id": "7mSd3SwAjZ-F",
        "colab": {
          "base_uri": "https://localhost:8080/"
        },
        "outputId": "610fe159-05cf-4c6f-96d5-2182278be3b3"
      },
      "execution_count": null,
      "outputs": [
        {
          "output_type": "stream",
          "name": "stdout",
          "text": [
            "False\n",
            "The S present at the path is a regular \n",
            "The S present to a Directory: False\n",
            "exercise1.6\n"
          ]
        }
      ]
    },
    {
      "cell_type": "code",
      "source": [
        "import os\n",
        "directory=\"/Users/Programs/Directory/program1.csv.\"\n",
        "pathname, extension=os.path.splitext(directory)\n",
        "filename=pathname.split(\"/\")\n",
        "print(filename[-1])\n",
        "print(\"exercise1.7\")"
      ],
      "metadata": {
        "id": "0eaCxApcnFaV",
        "colab": {
          "base_uri": "https://localhost:8080/"
        },
        "outputId": "1ad1602d-559d-48c6-8f55-eafbf96a94f9"
      },
      "execution_count": null,
      "outputs": [
        {
          "output_type": "stream",
          "name": "stdout",
          "text": [
            "program1.csv\n",
            "exercise1.7\n"
          ]
        }
      ]
    },
    {
      "cell_type": "code",
      "source": [
        "from datetime import date \n",
        "d1 = date(2022, 9, 7)\n",
        "d2 = date(2022, 11, 17)\n",
        "delta = d2 - d1 \n",
        "print(delta.days)\n",
        "\n",
        "d3 = date(2002, 3, 13)\n",
        "d4 = date(2022, 11, 17)\n",
        "delta = d4 - d3 \n",
        "print('The number of days since today from my born is')\n",
        "print(delta.days)\n",
        "print('execise1.8')"
      ],
      "metadata": {
        "id": "fCyGQpVIiD5X",
        "colab": {
          "base_uri": "https://localhost:8080/"
        },
        "outputId": "74ae1d98-c6c2-4e31-8856-276037fe825c"
      },
      "execution_count": null,
      "outputs": [
        {
          "output_type": "stream",
          "name": "stdout",
          "text": [
            "71\n",
            "The number of days since today from my born is\n",
            "7554\n",
            "execise1.8\n"
          ]
        }
      ]
    },
    {
      "cell_type": "code",
      "source": [
        "import pandas as pd \n",
        "m = ({'title':['Ster Wars', 'Galaxy Quest', 'Waynes World'],\n",
        "                        'year': [1977, 1999, 1992 ],\n",
        "                        'length': [124, 104, 95],\n",
        "                        'genre':['sciFi', 'comedy', 'comedy'],\n",
        "                        'studioName':['Fox', 'DreamWorks', 'Paramount'],\n",
        "                        'producerC＃': [123, 456, 789]})\n",
        "                        \n",
        "df_m = pd.DataFrame(data=m)\n",
        "df_m['studioName'] == 'Fox','Columbia Pictures'\n",
        "\n",
        "df_fil_m = df_m[df_m['studioName'] == 'Fox']\n",
        "print(df_fil_m)\n",
        "print(df_m.year >= 1955, df_m.year <= 1977)\n",
        "print(df.loc['length', [df_m.year >= 1955, df_m.year <= 1977]])\n",
        "print('execise1.9')\n"
      ],
      "metadata": {
        "id": "BhG6k7CXDUBb",
        "colab": {
          "base_uri": "https://localhost:8080/",
          "height": 387
        },
        "outputId": "3ecd8bcb-a843-49e7-98ff-140a27f9d37b"
      },
      "execution_count": null,
      "outputs": [
        {
          "output_type": "stream",
          "name": "stdout",
          "text": [
            "       title  year  length  genre studioName  producerC＃\n",
            "0  Ster Wars  1977     124  sciFi        Fox         123\n",
            "0    True\n",
            "1    True\n",
            "2    True\n",
            "Name: year, dtype: bool 0     True\n",
            "1    False\n",
            "2    False\n",
            "Name: year, dtype: bool\n"
          ]
        },
        {
          "output_type": "error",
          "ename": "NameError",
          "evalue": "ignored",
          "traceback": [
            "\u001b[0;31m---------------------------------------------------------------------------\u001b[0m",
            "\u001b[0;31mNameError\u001b[0m                                 Traceback (most recent call last)",
            "\u001b[0;32m<ipython-input-1-97fcdbbb5b28>\u001b[0m in \u001b[0;36m<module>\u001b[0;34m\u001b[0m\n\u001b[1;32m     13\u001b[0m \u001b[0mprint\u001b[0m\u001b[0;34m(\u001b[0m\u001b[0mdf_fil_m\u001b[0m\u001b[0;34m)\u001b[0m\u001b[0;34m\u001b[0m\u001b[0;34m\u001b[0m\u001b[0m\n\u001b[1;32m     14\u001b[0m \u001b[0mprint\u001b[0m\u001b[0;34m(\u001b[0m\u001b[0mdf_m\u001b[0m\u001b[0;34m.\u001b[0m\u001b[0myear\u001b[0m \u001b[0;34m>=\u001b[0m \u001b[0;36m1955\u001b[0m\u001b[0;34m,\u001b[0m \u001b[0mdf_m\u001b[0m\u001b[0;34m.\u001b[0m\u001b[0myear\u001b[0m \u001b[0;34m<=\u001b[0m \u001b[0;36m1977\u001b[0m\u001b[0;34m)\u001b[0m\u001b[0;34m\u001b[0m\u001b[0;34m\u001b[0m\u001b[0m\n\u001b[0;32m---> 15\u001b[0;31m \u001b[0mprint\u001b[0m\u001b[0;34m(\u001b[0m\u001b[0mdf\u001b[0m\u001b[0;34m.\u001b[0m\u001b[0mloc\u001b[0m\u001b[0;34m[\u001b[0m\u001b[0;34m'length'\u001b[0m\u001b[0;34m,\u001b[0m \u001b[0;34m[\u001b[0m\u001b[0mdf_m\u001b[0m\u001b[0;34m.\u001b[0m\u001b[0myear\u001b[0m \u001b[0;34m>=\u001b[0m \u001b[0;36m1955\u001b[0m\u001b[0;34m,\u001b[0m \u001b[0mdf_m\u001b[0m\u001b[0;34m.\u001b[0m\u001b[0myear\u001b[0m \u001b[0;34m<=\u001b[0m \u001b[0;36m1977\u001b[0m\u001b[0;34m]\u001b[0m\u001b[0;34m]\u001b[0m\u001b[0;34m)\u001b[0m\u001b[0;34m\u001b[0m\u001b[0;34m\u001b[0m\u001b[0m\n\u001b[0m\u001b[1;32m     16\u001b[0m \u001b[0mprint\u001b[0m\u001b[0;34m(\u001b[0m\u001b[0;34m'execise1.9'\u001b[0m\u001b[0;34m)\u001b[0m\u001b[0;34m\u001b[0m\u001b[0;34m\u001b[0m\u001b[0m\n",
            "\u001b[0;31mNameError\u001b[0m: name 'df' is not defined"
          ]
        }
      ]
    },
    {
      "cell_type": "code",
      "source": [
        "import pandas as pd\n",
        "r = ({'name':['Carrie Fisher', 'Mark Hamill'],\n",
        "                   'address': ['123 Maple St.Hollywood', '456 Oak Rd.Brentwood'],\n",
        "                   'gender': ['F', 'M'],\n",
        "                   'birthdate': ['9/9/99', '8/8/88']})\n",
        "df_r = pd.DataFrame(data=r)\n",
        "df_r['gender'] == 'M' \n",
        "df_r['birthdate'] != '1/1/1900' \n",
        "df_fil_r = df_r[df_r['gender'] == 'M']\n",
        "df_fil_r = df_r['birthdate'] != '1/1/1900'] \n",
        "print(df_fil_r)\n",
        "\n",
        "s = ({'name': ['Carrie Fisher', 'Harrison Ford'],\n",
        "                   'addres': ['123 Maple St.Hollywood', '789Palm Dr.Beverly Hills'],\n",
        "                   'gender': ['F', 'M'],\n",
        "                   'birthdate': ['9/9/99', '7/7/77']})\n",
        "df_s = pd.DataFrame(data=s)\n",
        "\n"
      ],
      "metadata": {
        "id": "SoVm2-IcGl7U",
        "colab": {
          "base_uri": "https://localhost:8080/"
        },
        "outputId": "81791e00-7ec1-4822-eed2-e348b90feaee"
      },
      "execution_count": null,
      "outputs": [
        {
          "output_type": "stream",
          "name": "stdout",
          "text": [
            "          name               address gender birthdate\n",
            "1  Mark Hamill  456 Oak Rd.Brentwood      M    8/8/88\n"
          ]
        }
      ]
    }
  ]
}